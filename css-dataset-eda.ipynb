{
 "cells": [
  {
   "cell_type": "code",
   "execution_count": null,
   "id": "8c916d69",
   "metadata": {},
   "outputs": [],
   "source": [
    "import os\n",
    "import shutil\n",
    "import re\n",
    "import json\n",
    "import numpy as np\n",
    "import pandas as pd\n",
    "from pandas_profiling import ProfileReport\n",
    "import rcssmin"
   ]
  },
  {
   "cell_type": "code",
   "execution_count": null,
   "id": "57d3ece5",
   "metadata": {},
   "outputs": [],
   "source": [
    "def getFileByExtension(extension_name):\n",
    "    if os.path.isdir(\"minified-dataset\"):\n",
    "        shutil.rmtree(\"minified-dataset\", ignore_errors=True)\n",
    "\n",
    "    os.mkdir(\"minified-dataset\")\n",
    "    \n",
    "    valid_files = []\n",
    "\n",
    "    for filePath, dirs, files in os.walk(\"original-dataset\"):\n",
    "        minifiedStartingPath = filePath.replace(\"original-dataset\", \"\")\n",
    "\n",
    "        for directory in dirs:\n",
    "            os.mkdir(f\"minified-dataset\\\\{minifiedStartingPath}\\\\{directory}\")\n",
    "\n",
    "        for file in files:\n",
    "            if file[-len(extension_name):] == extension_name:\n",
    "                valid_files.append((os.path.join(filePath, file), \n",
    "                    os.path.join(f\"minified-dataset{minifiedStartingPath}\", file)))\n",
    "\n",
    "                with open(os.path.join(filePath, file), \"rb\") as f:\n",
    "                    file_text = f.read().decode(errors=\"replace\")\n",
    "\n",
    "                with open(f\"minified-dataset\\\\{minifiedStartingPath}\\\\{file}\", \"w\") as f:\n",
    "                    f.write(rcssmin.cssmin(file_text))\n",
    "                \n",
    "\n",
    "        # print(filePath)\n",
    "        # print(dirs)\n",
    "        # print(files)\n",
    "\n",
    "    return valid_files\n"
   ]
  },
  {
   "cell_type": "code",
   "execution_count": null,
   "id": "6adacd16",
   "metadata": {},
   "outputs": [],
   "source": [
    "os.getcwd()"
   ]
  },
  {
   "cell_type": "code",
   "execution_count": null,
   "id": "f457f59e",
   "metadata": {},
   "outputs": [],
   "source": [
    "css_files = getFileByExtension(\".css\")\n",
    "# print(css_files)\n",
    "print(len(css_files))\n",
    "css_files[0]"
   ]
  },
  {
   "cell_type": "code",
   "execution_count": null,
   "id": "81d00634",
   "metadata": {},
   "outputs": [],
   "source": [
    "with open(\"original-dataset\\\\GlobalTVBC\\\\css\\\\23579edb1e12f906d2b83f522d1c27011dc1b1d8.css\", \"rb\") as file:\n",
    "    test_file = file.read().decode(errors=\"replace\")"
   ]
  },
  {
   "cell_type": "markdown",
   "id": "e80627e8",
   "metadata": {},
   "source": [
    "### EDA Questions:\n",
    "\n",
    "- File sizes\n",
    "- Number of lines\n",
    "- Number of selectors (tags, classes, ids)\n",
    "- Number of media queries\n",
    "- Number of keyframes\n",
    "- Number of styles\n",
    "- Number of styles per selector\n",
    "- Number of valid styles\n"
   ]
  },
  {
   "cell_type": "code",
   "execution_count": null,
   "id": "20bb812e",
   "metadata": {},
   "outputs": [],
   "source": [
    "def dictToJSONFile(filePath, dictionary):\n",
    "    with open(filePath, 'w') as fp:\n",
    "        json.dump(dictionary, fp, indent=2)"
   ]
  },
  {
   "cell_type": "markdown",
   "id": "8df9ee27",
   "metadata": {},
   "source": [
    "Causes of errors:\n",
    "- Invalid CSS (e.g. original-dataset\\Alibaba\\css\\fe397ac3e7d34d455bd1114d623b1e62aa8ee51c.css)\n",
    "    - filter: (filter attribute has no value and semicolon)\n",
    "- Using base64 image backgrounds (e.g. original-dataset\\Amazon.ca\\css\\d96313390c86b5833d30fbe6a5ed905fd3a0ea05.css)\n",
    "    - the semi colon in the base64 image string causes the url to be seperated: background-image:url(data:image/gif;base64,R0lGODlhBwAKAMIEAObm5uvr6/Dw8P39/f///////////////yH5BAEKAAcALAAAAAAHAAoAAAMWSDPUGoE5AaIj1M4qMW+ZFDYD1ClnAgA7);"
   ]
  },
  {
   "cell_type": "code",
   "execution_count": null,
   "id": "1f038ea4",
   "metadata": {},
   "outputs": [],
   "source": [
    "re.escape(\"/*\")"
   ]
  },
  {
   "cell_type": "code",
   "execution_count": null,
   "id": "e47814ef",
   "metadata": {},
   "outputs": [],
   "source": [
    "with open(\"./html_tags.json\", \"r\") as f:\n",
    "  html_tags = json.load(f)\n",
    "\n",
    "def getFileSize(filePath):\n",
    "    return os.path.getsize(filePath)\n",
    "\n",
    "def getNumLines(css_text):\n",
    "    return css_text.count(\"\\n\")+1\n",
    "\n",
    "def removeComments(css_text):\n",
    "    escaped_backlash = re.escape(\"\\n\")\n",
    "    css_text = re.sub(f'{re.escape(\"/*\")}.*?{re.escape(\"*/\")}', '', css_text)\n",
    "    css_text = re.sub(f'{re.escape(\"//\")}.*?{escaped_backlash}', '', css_text)\n",
    "\n",
    "    return css_text\n",
    "\n",
    "def getSelectorsBySymbol(symbol, css_text):\n",
    "    css_text = removeComments(css_text)\n",
    "\n",
    "    selectors = set([])\n",
    "\n",
    "    isSelector = False\n",
    "    selector_name = \"\"\n",
    "\n",
    "    for char in css_text:\n",
    "        if isSelector:\n",
    "            isSelector = not char in set([\" \", \".\", \"#\", \",\", \"{\", \"\\n\", \":\", \"[\", \"/\", \"\\\\\", \n",
    "                '\"', \">\", \"+\", \"~\"])\n",
    "\n",
    "            if isSelector:\n",
    "                selector_name = f\"{selector_name}{char}\"\n",
    "\n",
    "            if char.isdigit():\n",
    "                isSelector = False\n",
    "                selector_name = \"\"\n",
    "            \n",
    "            # print(char, selector_name)\n",
    "        else:\n",
    "            selectors.add(selector_name.strip())\n",
    "            selector_name = \"\"\n",
    "            isSelector = char == symbol\n",
    "\n",
    "    if \"\" in selectors:\n",
    "        selectors.remove(\"\")\n",
    "\n",
    "    return list(selectors)\n",
    "\n",
    "def getSelectors(css_text):\n",
    "    num_tags = sum(css_text.count(tag) for tag in html_tags)\n",
    "\n",
    "    css_classes = getSelectorsBySymbol(\".\", css_text)\n",
    "    css_ids = getSelectorsBySymbol(\"#\", css_text)\n",
    "\n",
    "    return css_classes, css_ids, {\n",
    "        \"num_tags\": num_tags,\n",
    "        \"num_classes\": len(css_classes),\n",
    "        \"num_ids\": len(css_ids),\n",
    "        \"num_rules\": css_text.count(\"@\"),\n",
    "        \"num_media_queries\": css_text.count(\"@media\"),\n",
    "        \"num_keyframes\": css_text.count(\"@keyframes\")\n",
    "    }"
   ]
  },
  {
   "cell_type": "code",
   "execution_count": null,
   "id": "3a729bcd",
   "metadata": {},
   "outputs": [],
   "source": [
    "def removeEmptyString(theList):\n",
    "        return [x for x in theList if x != \"\"]\n",
    "\n",
    "def splitBySemiColon(styles):\n",
    "    isInsideParenthesis = False\n",
    "    splitStyles = []\n",
    "    currentStyle = \"\"\n",
    "    hasColon = False\n",
    "\n",
    "    for i, char in enumerate(styles):\n",
    "        if not isInsideParenthesis and (char == \";\" or i == len(styles)-1):\n",
    "            if  i == len(styles)-1:\n",
    "                currentStyle = f\"{currentStyle}{char}\"\n",
    "            \n",
    "            # print(i, currentStyle, len(splitStyles), char == \";\", i == len(styles)-1)\n",
    "\n",
    "            if hasColon:\n",
    "                splitStyles.append(currentStyle)\n",
    "            else:\n",
    "                try:\n",
    "                    splitStyles[len(splitStyles)-1] += currentStyle\n",
    "                except:\n",
    "                    return []\n",
    "\n",
    "            currentStyle = \"\"\n",
    "            hasColon = False\n",
    "            \n",
    "            continue\n",
    "\n",
    "        if char == \":\":\n",
    "            hasColon = True\n",
    "\n",
    "        if char == \"(\":\n",
    "            isInsideParenthesis = True\n",
    "        elif char == \")\":\n",
    "            isInsideParenthesis = False\n",
    "\n",
    "        currentStyle = f\"{currentStyle}{char}\"\n",
    "\n",
    "    return splitStyles\n",
    "\n",
    "def splitByColon(styles):\n",
    "    return list(map(lambda style : removeEmptyString(style.split(\":\", 1)), styles))\n",
    "\n",
    "def getStyles(css_text):\n",
    "    css_text = removeComments(css_text)\n",
    "    styles = re.findall(r'\\{\\s*(.*?)\\s*\\}', css_text, flags=re.DOTALL) # list of substrings between { and }\n",
    "    # print(\"s\", styles)\n",
    "\n",
    "    stylesSplitSemicolon = list(map(splitBySemiColon, styles))\n",
    "    # print(stylesSplitSemicolon)\n",
    "    stylesSplitColon = list(map(splitByColon, stylesSplitSemicolon))\n",
    "\n",
    "    return stylesSplitColon"
   ]
  },
  {
   "cell_type": "code",
   "execution_count": null,
   "metadata": {},
   "outputs": [],
   "source": [
    "test = \"html{color:rgb(0,0,0);background:rgb(255,255,255) none repeat scroll 0% 0%}\"\n",
    "getStyles(test)"
   ]
  },
  {
   "cell_type": "code",
   "execution_count": null,
   "id": "4c4248ec",
   "metadata": {},
   "outputs": [],
   "source": [
    "class StyleSyntaxException(Exception):\n",
    "    def __init__(self, prev, current):\n",
    "        self.prev = prev\n",
    "        self.current = current\n",
    "\n",
    "def getNumStyles(stylesheet):\n",
    "    style_attributes = {}\n",
    "    style_values = {}\n",
    "\n",
    "    def addStyleToDict(dictionary, style):\n",
    "        if style in dictionary:\n",
    "            # some files had an error where there would be a random semi-colon in the attribute value\n",
    "            # e.g. color: red; !important; this adds it to the previous line\n",
    "            dictionary[style] += 1\n",
    "        else:\n",
    "            dictionary[style] = 1\n",
    "\n",
    "    for styles in stylesheet:\n",
    "        try:\n",
    "            y = None\n",
    "\n",
    "            for x in styles:\n",
    "                attr, value = x\n",
    "                addStyleToDict(style_attributes, attr)\n",
    "                addStyleToDict(style_values, value)\n",
    "                y = x\n",
    "        except:\n",
    "            # print(\"prev\", y)\n",
    "            # print(\"err\", x)\n",
    "            raise StyleSyntaxException(y, x)\n",
    "\n",
    "    return style_attributes, style_values"
   ]
  },
  {
   "cell_type": "code",
   "execution_count": null,
   "id": "eaebe6e7",
   "metadata": {},
   "outputs": [],
   "source": [
    "# with open('test.txt', 'w') as f:\n",
    "#     f.write(rcssmin.cssmin(test_file))"
   ]
  },
  {
   "cell_type": "code",
   "execution_count": null,
   "id": "950f0b8f",
   "metadata": {},
   "outputs": [],
   "source": [
    "css_texts = []\n",
    "css_metadata = []\n",
    "css_selectors = []\n",
    "css_styles = []\n",
    "file_errors = []\n",
    "css_files_length = len(css_files)\n",
    "\n",
    "for i, (css_file_path, css_minified_path) in enumerate(css_files):\n",
    "    try:\n",
    "        # print(css_minified_path)\n",
    "\n",
    "        with open(css_file_path, \"rb\") as file:\n",
    "            css_text = file.read().decode(errors=\"replace\")\n",
    "\n",
    "        with open(css_minified_path, \"rb\") as file:\n",
    "            minified_css = file.read().decode(errors=\"replace\")\n",
    "        \n",
    "        css_texts.append((css_text, minified_css))\n",
    "\n",
    "        css_classes, css_ids, numSelectors = getSelectors(minified_css)\n",
    "\n",
    "        styles = getStyles(minified_css.replace(\"\\n\", \" \"))\n",
    "\n",
    "        css_selectors.append({\n",
    "            \"id\": i,\n",
    "            \"cssFile\": css_file_path,\n",
    "            \"minifiedFile\": css_minified_path,\n",
    "            \"classes\": css_classes,\n",
    "            \"ids\": css_ids\n",
    "        })\n",
    "\n",
    "        css_styles.append({\n",
    "            \"id\": i,\n",
    "            \"cssFile\": css_file_path,\n",
    "            \"minifiedFile\": css_minified_path,\n",
    "            \"styles\": styles\n",
    "        })\n",
    "\n",
    "        metadata = {\n",
    "            \"id\": i,\n",
    "            \"cssFile\": css_file_path,\n",
    "            \"fileSize\": getFileSize(css_file_path),\n",
    "            \"numLines\": getNumLines(css_text),\n",
    "            \"numStyles\": getNumStyles(styles)\n",
    "        }\n",
    "\n",
    "        metadata.update(numSelectors)\n",
    "\n",
    "        css_metadata.append(metadata)\n",
    "    except StyleSyntaxException as err:\n",
    "        print(css_file_path, err.prev, err.current)\n",
    "        file_errors.append(css_file_path)\n",
    "        # print(\"err:\", err)\n",
    "\n",
    "    print(f\"File: {i+1} / {css_files_length} | Number of Errors: {len(file_errors)}\", end=\"\\r\")\n",
    "\n",
    "print(\"\\n\", file_errors[:3])\n"
   ]
  },
  {
   "cell_type": "code",
   "execution_count": null,
   "id": "39af121f",
   "metadata": {},
   "outputs": [],
   "source": [
    "# print(css_metadata)\n",
    "# print(css_texts[2])"
   ]
  },
  {
   "cell_type": "code",
   "execution_count": null,
   "id": "9a783916",
   "metadata": {},
   "outputs": [],
   "source": [
    "css_files[4][0]"
   ]
  },
  {
   "cell_type": "code",
   "execution_count": null,
   "id": "cc31859f",
   "metadata": {},
   "outputs": [],
   "source": [
    "x = \"height: 50px\"\n",
    "x.split(\";\")"
   ]
  },
  {
   "cell_type": "code",
   "execution_count": null,
   "id": "670b3596",
   "metadata": {},
   "outputs": [],
   "source": [
    "# getStyles(css_texts[2])\n",
    "getStyles(css_texts[4][1])"
   ]
  },
  {
   "cell_type": "code",
   "execution_count": null,
   "id": "cacd2435",
   "metadata": {},
   "outputs": [],
   "source": [
    "totalProperties = {}\n",
    "totalValues = {}\n",
    "\n",
    "numPropRepititionsPerFile = np.array([])\n",
    "numValueRepititionsPerFile = np.array([])\n",
    "\n",
    "def combineStyles(combinedDict, oldDict):\n",
    "  for key in oldDict:\n",
    "    if key in combinedDict:\n",
    "      combinedDict[key] += oldDict[key]\n",
    "    else:\n",
    "      combinedDict[key] = oldDict[key]\n",
    "\n",
    "for metadata in css_metadata:\n",
    "  properties, values = metadata[\"numStyles\"]\n",
    "\n",
    "  numPropRepititionsPerFile = np.append(numPropRepititionsPerFile, sum(list(properties.values())) - len(properties))\n",
    "  numValueRepititionsPerFile = np.append(numValueRepititionsPerFile, sum(list(values.values())) - len(values))\n",
    "\n",
    "  combineStyles(totalProperties, properties)\n",
    "  combineStyles(totalValues, values)\n",
    "\n",
    "totalProperties = {\n",
    "  \"property\": list(totalProperties.keys()),\n",
    "  \"frequency\": list(totalProperties.values())\n",
    "}\n",
    "\n",
    "totalValues = {\n",
    "  \"values\": list(totalValues.keys()),\n",
    "  \"frequency\": list(totalValues.values())\n",
    "}\n"
   ]
  },
  {
   "cell_type": "code",
   "execution_count": 91,
   "id": "d79c382f",
   "metadata": {},
   "outputs": [
    {
     "name": "stdout",
     "output_type": "stream",
     "text": [
      "1211.768115942029\n",
      "949.8876811594203\n"
     ]
    }
   ],
   "source": [
    "print(numPropRepititionsPerFile.mean())\n",
    "print(numValueRepititionsPerFile.mean())"
   ]
  },
  {
   "cell_type": "code",
   "execution_count": 92,
   "id": "2b6aa595",
   "metadata": {},
   "outputs": [
    {
     "name": "stdout",
     "output_type": "stream",
     "text": [
      "400.5\n",
      "278.5\n"
     ]
    }
   ],
   "source": [
    "print(np.median(numPropRepititionsPerFile))\n",
    "print(np.median(numValueRepititionsPerFile))"
   ]
  },
  {
   "cell_type": "code",
   "execution_count": null,
   "id": "57f50218",
   "metadata": {},
   "outputs": [],
   "source": [
    "totalPropertiesDf = pd.DataFrame.from_dict(totalProperties)\n",
    "totalValuesDf = pd.DataFrame.from_dict(totalValues)"
   ]
  },
  {
   "cell_type": "code",
   "execution_count": null,
   "id": "b1e87a5e",
   "metadata": {},
   "outputs": [],
   "source": [
    "ProfileReport(totalPropertiesDf, title=\"Style Properties Report\", explorative=True).to_file(\"./profile-reports/style-properties-report.html\")\n",
    "ProfileReport(totalValuesDf, title=\"Style values Report\", explorative=True).to_file(\"./profile-reports/style-values-report.html\")"
   ]
  },
  {
   "cell_type": "code",
   "execution_count": null,
   "id": "b5fc61a3",
   "metadata": {},
   "outputs": [],
   "source": [
    "dictToJSONFile(\"./css-metadata.json\", css_metadata)\n",
    "dictToJSONFile(\"./css-selectors.json\", css_selectors)\n",
    "dictToJSONFile(\"./css-styles.json\", css_styles)"
   ]
  },
  {
   "cell_type": "code",
   "execution_count": null,
   "id": "33bfc30c",
   "metadata": {},
   "outputs": [],
   "source": [
    "css_metadata_df = pd.DataFrame.from_dict(css_metadata)\n",
    "# css_metadata_df"
   ]
  },
  {
   "cell_type": "code",
   "execution_count": null,
   "id": "2b43181e",
   "metadata": {},
   "outputs": [],
   "source": [
    "ProfileReport(css_metadata_df, title=\"CSS Metadata Report\", explorative=True).to_file(\"./profile-reports/css-metadata-report.html\")"
   ]
  },
  {
   "cell_type": "code",
   "execution_count": null,
   "id": "9431b439",
   "metadata": {},
   "outputs": [],
   "source": [
    "css_selectors_df = pd.DataFrame.from_dict(css_selectors)\n",
    "# css_selectors_df"
   ]
  },
  {
   "cell_type": "code",
   "execution_count": null,
   "id": "95f436d9",
   "metadata": {},
   "outputs": [],
   "source": [
    "ProfileReport(css_selectors_df, title=\"CSS Selectors Report\", explorative=True).to_file(\"./profile-reports/css-selectors-report.html\")"
   ]
  }
 ],
 "metadata": {
  "kernelspec": {
   "display_name": "Python 3 (ipykernel)",
   "language": "python",
   "name": "python3"
  },
  "language_info": {
   "codemirror_mode": {
    "name": "ipython",
    "version": 3
   },
   "file_extension": ".py",
   "mimetype": "text/x-python",
   "name": "python",
   "nbconvert_exporter": "python",
   "pygments_lexer": "ipython3",
   "version": "3.9.7"
  }
 },
 "nbformat": 4,
 "nbformat_minor": 5
}
