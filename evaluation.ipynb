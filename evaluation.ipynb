{
 "cells": [
  {
   "cell_type": "code",
   "execution_count": 138,
   "metadata": {},
   "outputs": [],
   "source": [
    "import os\n",
    "import json\n",
    "import re\n",
    "import numpy as np\n",
    "import pandas as pd\n",
    "from pandas_profiling import ProfileReport"
   ]
  },
  {
   "cell_type": "code",
   "execution_count": 139,
   "metadata": {},
   "outputs": [],
   "source": [
    "with open(\"./html_tags.json\", \"r\") as f:\n",
    "  html_tags = json.load(f)\n",
    "\n",
    "def getFileSize(filePath):\n",
    "    return os.path.getsize(filePath)\n",
    "\n",
    "def getNumLines(css_text):\n",
    "    return css_text.count(\"\\n\")+1\n",
    "\n",
    "def removeComments(css_text):\n",
    "    escaped_backlash = re.escape(\"\\n\")\n",
    "    css_text = re.sub(f'{re.escape(\"/*\")}.*?{re.escape(\"*/\")}', '', css_text)\n",
    "    css_text = re.sub(f'{re.escape(\"//\")}.*?{escaped_backlash}', '', css_text)\n",
    "\n",
    "    return css_text\n",
    "\n",
    "def getSelectorsBySymbol(symbol, css_text):\n",
    "    css_text = removeComments(css_text)\n",
    "\n",
    "    selectors = set([])\n",
    "\n",
    "    isSelector = False\n",
    "    selector_name = \"\"\n",
    "\n",
    "    for char in css_text:\n",
    "        if isSelector:\n",
    "            isSelector = not char in set([\" \", \".\", \"#\", \",\", \"{\", \"\\n\", \":\", \"[\", \"/\", \"\\\\\", \n",
    "                '\"', \">\", \"+\", \"~\"])\n",
    "\n",
    "            if isSelector:\n",
    "                selector_name = f\"{selector_name}{char}\"\n",
    "\n",
    "            if char.isdigit():\n",
    "                isSelector = False\n",
    "                selector_name = \"\"\n",
    "            \n",
    "            # print(char, selector_name)\n",
    "        else:\n",
    "            selectors.add(selector_name.strip())\n",
    "            selector_name = \"\"\n",
    "            isSelector = char == symbol\n",
    "\n",
    "    if \"\" in selectors:\n",
    "        selectors.remove(\"\")\n",
    "\n",
    "    return list(selectors)\n",
    "\n",
    "def getSelectors(css_text):\n",
    "    num_tags = sum(css_text.count(tag) for tag in html_tags)\n",
    "\n",
    "    css_classes = getSelectorsBySymbol(\".\", css_text)\n",
    "    css_ids = getSelectorsBySymbol(\"#\", css_text)\n",
    "\n",
    "    return css_classes, css_ids, {\n",
    "        \"num_tags\": num_tags,\n",
    "        \"num_classes\": len(css_classes),\n",
    "        \"num_ids\": len(css_ids),\n",
    "        \"num_rules\": css_text.count(\"@\"),\n",
    "        \"num_media_queries\": css_text.count(\"@media\"),\n",
    "        \"num_keyframes\": css_text.count(\"@keyframes\")\n",
    "    }"
   ]
  },
  {
   "cell_type": "code",
   "execution_count": 140,
   "metadata": {},
   "outputs": [],
   "source": [
    "def removeEmptyString(theList):\n",
    "        return [x for x in theList if x != \"\"]\n",
    "\n",
    "def splitBySemiColon(styles):\n",
    "    isInsideParenthesis = False\n",
    "    splitStyles = []\n",
    "    currentStyle = \"\"\n",
    "    hasColon = False\n",
    "\n",
    "    for i, char in enumerate(styles):\n",
    "        if not isInsideParenthesis and (char == \";\" or i == len(styles)-1):\n",
    "            if  i == len(styles)-1:\n",
    "                currentStyle = f\"{currentStyle}{char}\"\n",
    "            \n",
    "            # print(i, currentStyle, len(splitStyles), char == \";\", i == len(styles)-1)\n",
    "\n",
    "            if hasColon:\n",
    "                splitStyles.append(currentStyle)\n",
    "            else:\n",
    "                try:\n",
    "                    splitStyles[len(splitStyles)-1] += currentStyle\n",
    "                except:\n",
    "                    return []\n",
    "\n",
    "            currentStyle = \"\"\n",
    "            hasColon = False\n",
    "            \n",
    "            continue\n",
    "\n",
    "        if char == \":\":\n",
    "            hasColon = True\n",
    "\n",
    "        if char == \"(\":\n",
    "            isInsideParenthesis = True\n",
    "        elif char == \")\":\n",
    "            isInsideParenthesis = False\n",
    "\n",
    "        currentStyle = f\"{currentStyle}{char}\"\n",
    "\n",
    "    return splitStyles\n",
    "\n",
    "# def splitByColon(styles):\n",
    "#     return list(map(lambda style : removeEmptyString(style.split(\":\", 1)), styles))\n",
    "\n",
    "def getStyles(css_text):\n",
    "    css_text = removeComments(css_text)\n",
    "    styles = re.findall(r'\\{\\s*(.*?)\\s*\\}', css_text, flags=re.DOTALL) # list of substrings between { and }\n",
    "    # print(\"s\", styles)\n",
    "\n",
    "    stylesSplitSemicolon = list(map(splitBySemiColon, styles))\n",
    "    # print(stylesSplitSemicolon)\n",
    "    # stylesSplitColon = list(map(splitByColon, stylesSplitSemicolon))\n",
    "\n",
    "    return stylesSplitSemicolon"
   ]
  },
  {
   "cell_type": "code",
   "execution_count": 141,
   "metadata": {},
   "outputs": [
    {
     "data": {
      "text/plain": [
       "[['color:rgb(0,0,0)', 'background:rgb(255,255,255) none repeat scroll 0% 0%']]"
      ]
     },
     "execution_count": 141,
     "metadata": {},
     "output_type": "execute_result"
    }
   ],
   "source": [
    "test = \"html{color:rgb(0,0,0);background:rgb(255,255,255) none repeat scroll 0% 0%}\"\n",
    "getStyles(test)"
   ]
  },
  {
   "cell_type": "code",
   "execution_count": 142,
   "metadata": {},
   "outputs": [],
   "source": [
    "with open(\"original-dataset\\\\GlobalTVBC\\\\css\\\\23579edb1e12f906d2b83f522d1c27011dc1b1d8.css\", \"rb\") as file:\n",
    "    test_file = file.read().decode(errors=\"replace\")"
   ]
  },
  {
   "cell_type": "code",
   "execution_count": 143,
   "metadata": {},
   "outputs": [],
   "source": [
    "def getFileStats(filePath, text):\n",
    "    num_selectors = getSelectors(text)[2]\n",
    "    return [getFileSize(filePath), num_selectors[\"num_tags\"], num_selectors[\"num_classes\"], num_selectors[\"num_ids\"]]"
   ]
  },
  {
   "cell_type": "code",
   "execution_count": 144,
   "metadata": {},
   "outputs": [
    {
     "data": {
      "text/plain": [
       "[25850, 5483, 69, 33]"
      ]
     },
     "execution_count": 144,
     "metadata": {},
     "output_type": "execute_result"
    }
   ],
   "source": [
    "getFileStats(\"original-dataset\\\\GlobalTVBC\\\\css\\\\23579edb1e12f906d2b83f522d1c27011dc1b1d8.css\", test_file)"
   ]
  },
  {
   "cell_type": "code",
   "execution_count": 145,
   "metadata": {},
   "outputs": [],
   "source": [
    "originalStats = []\n",
    "refactorStats = []\n",
    "\n",
    "refactoredStyles = []\n",
    "originalStyles = []\n",
    "\n",
    "numErrors = 0\n",
    "\n",
    "for refactored_file in os.listdir(\"refactored-files\"):\n",
    "    try:\n",
    "        if refactored_file.endswith(\".css\"):\n",
    "            original_file = refactored_file.replace(\"-\", \"\\\\\")\n",
    "            original_file = original_file.replace(\"\\\\\", \"-\", 1)\n",
    "            refactored_file = f\"refactored-files\\\\{refactored_file}\"\n",
    "            # print(refactored_file)\n",
    "            # print(original_file)\n",
    "\n",
    "            with open(refactored_file, \"rb\") as file:\n",
    "                refactored_text = file.read().decode(errors=\"replace\")\n",
    "\n",
    "            with open(original_file, \"rb\") as file:\n",
    "                original_text = file.read().decode(errors=\"replace\")\n",
    "\n",
    "            refactoredStyles.extend(getStyles(refactored_text))\n",
    "            originalStyles.extend(getStyles(original_text))\n",
    "\n",
    "            originalStats.append(getFileStats(original_file, original_text))\n",
    "            refactorStats.append(getFileStats(refactored_file, refactored_text))\n",
    "    except:\n",
    "        numErrors += 1\n",
    "\n",
    "refactoredStyles = [j for sub in refactoredStyles for j in sub]\n",
    "originalStyles = [j for sub in originalStyles for j in sub]"
   ]
  },
  {
   "cell_type": "code",
   "execution_count": 146,
   "metadata": {},
   "outputs": [
    {
     "name": "stdout",
     "output_type": "stream",
     "text": [
      "4\n"
     ]
    }
   ],
   "source": [
    "print(numErrors)"
   ]
  },
  {
   "cell_type": "code",
   "execution_count": 147,
   "metadata": {},
   "outputs": [],
   "source": [
    "def getDescriptiveStats(df):\n",
    "    stats = []\n",
    "\n",
    "    for column in [\"File Size\", \"Number of Tags\", \"Number of Classes\", \"Number of Ids\"]:\n",
    "        stats.append([round(df[column].mean(), 2), round(df[column].median(), 2)])\n",
    "\n",
    "    return stats"
   ]
  },
  {
   "cell_type": "code",
   "execution_count": 148,
   "metadata": {},
   "outputs": [
    {
     "data": {
      "text/html": [
       "<div>\n",
       "<style scoped>\n",
       "    .dataframe tbody tr th:only-of-type {\n",
       "        vertical-align: middle;\n",
       "    }\n",
       "\n",
       "    .dataframe tbody tr th {\n",
       "        vertical-align: top;\n",
       "    }\n",
       "\n",
       "    .dataframe thead th {\n",
       "        text-align: right;\n",
       "    }\n",
       "</style>\n",
       "<table border=\"1\" class=\"dataframe\">\n",
       "  <thead>\n",
       "    <tr style=\"text-align: right;\">\n",
       "      <th></th>\n",
       "      <th>File Size</th>\n",
       "      <th>Number of Tags</th>\n",
       "      <th>Number of Classes</th>\n",
       "      <th>Number of Ids</th>\n",
       "    </tr>\n",
       "  </thead>\n",
       "  <tbody>\n",
       "    <tr>\n",
       "      <th>0</th>\n",
       "      <td>172072</td>\n",
       "      <td>39138</td>\n",
       "      <td>822</td>\n",
       "      <td>63</td>\n",
       "    </tr>\n",
       "    <tr>\n",
       "      <th>1</th>\n",
       "      <td>46176</td>\n",
       "      <td>10325</td>\n",
       "      <td>185</td>\n",
       "      <td>114</td>\n",
       "    </tr>\n",
       "    <tr>\n",
       "      <th>2</th>\n",
       "      <td>1078</td>\n",
       "      <td>196</td>\n",
       "      <td>5</td>\n",
       "      <td>0</td>\n",
       "    </tr>\n",
       "    <tr>\n",
       "      <th>3</th>\n",
       "      <td>1078</td>\n",
       "      <td>196</td>\n",
       "      <td>5</td>\n",
       "      <td>0</td>\n",
       "    </tr>\n",
       "    <tr>\n",
       "      <th>4</th>\n",
       "      <td>1078</td>\n",
       "      <td>196</td>\n",
       "      <td>5</td>\n",
       "      <td>0</td>\n",
       "    </tr>\n",
       "    <tr>\n",
       "      <th>...</th>\n",
       "      <td>...</td>\n",
       "      <td>...</td>\n",
       "      <td>...</td>\n",
       "      <td>...</td>\n",
       "    </tr>\n",
       "    <tr>\n",
       "      <th>85</th>\n",
       "      <td>9306</td>\n",
       "      <td>2050</td>\n",
       "      <td>59</td>\n",
       "      <td>6</td>\n",
       "    </tr>\n",
       "    <tr>\n",
       "      <th>86</th>\n",
       "      <td>3562</td>\n",
       "      <td>710</td>\n",
       "      <td>20</td>\n",
       "      <td>2</td>\n",
       "    </tr>\n",
       "    <tr>\n",
       "      <th>87</th>\n",
       "      <td>13464</td>\n",
       "      <td>2836</td>\n",
       "      <td>43</td>\n",
       "      <td>29</td>\n",
       "    </tr>\n",
       "    <tr>\n",
       "      <th>88</th>\n",
       "      <td>12874</td>\n",
       "      <td>2728</td>\n",
       "      <td>43</td>\n",
       "      <td>19</td>\n",
       "    </tr>\n",
       "    <tr>\n",
       "      <th>89</th>\n",
       "      <td>12680</td>\n",
       "      <td>2683</td>\n",
       "      <td>43</td>\n",
       "      <td>19</td>\n",
       "    </tr>\n",
       "  </tbody>\n",
       "</table>\n",
       "<p>90 rows × 4 columns</p>\n",
       "</div>"
      ],
      "text/plain": [
       "    File Size  Number of Tags  Number of Classes  Number of Ids\n",
       "0      172072           39138                822             63\n",
       "1       46176           10325                185            114\n",
       "2        1078             196                  5              0\n",
       "3        1078             196                  5              0\n",
       "4        1078             196                  5              0\n",
       "..        ...             ...                ...            ...\n",
       "85       9306            2050                 59              6\n",
       "86       3562             710                 20              2\n",
       "87      13464            2836                 43             29\n",
       "88      12874            2728                 43             19\n",
       "89      12680            2683                 43             19\n",
       "\n",
       "[90 rows x 4 columns]"
      ]
     },
     "execution_count": 148,
     "metadata": {},
     "output_type": "execute_result"
    }
   ],
   "source": [
    "originalStatsDf = pd.DataFrame(originalStats, columns=[\"File Size\", \"Number of Tags\", \"Number of Classes\", \"Number of Ids\"])\n",
    "originalStatsDf"
   ]
  },
  {
   "cell_type": "code",
   "execution_count": 149,
   "metadata": {},
   "outputs": [
    {
     "data": {
      "text/html": [
       "<div>\n",
       "<style scoped>\n",
       "    .dataframe tbody tr th:only-of-type {\n",
       "        vertical-align: middle;\n",
       "    }\n",
       "\n",
       "    .dataframe tbody tr th {\n",
       "        vertical-align: top;\n",
       "    }\n",
       "\n",
       "    .dataframe thead th {\n",
       "        text-align: right;\n",
       "    }\n",
       "</style>\n",
       "<table border=\"1\" class=\"dataframe\">\n",
       "  <thead>\n",
       "    <tr style=\"text-align: right;\">\n",
       "      <th></th>\n",
       "      <th>File Size</th>\n",
       "      <th>Number of Tags</th>\n",
       "      <th>Number of Classes</th>\n",
       "      <th>Number of Ids</th>\n",
       "    </tr>\n",
       "  </thead>\n",
       "  <tbody>\n",
       "    <tr>\n",
       "      <th>0</th>\n",
       "      <td>264055</td>\n",
       "      <td>60396</td>\n",
       "      <td>823</td>\n",
       "      <td>41</td>\n",
       "    </tr>\n",
       "    <tr>\n",
       "      <th>1</th>\n",
       "      <td>66715</td>\n",
       "      <td>14795</td>\n",
       "      <td>185</td>\n",
       "      <td>107</td>\n",
       "    </tr>\n",
       "    <tr>\n",
       "      <th>2</th>\n",
       "      <td>1200</td>\n",
       "      <td>213</td>\n",
       "      <td>5</td>\n",
       "      <td>0</td>\n",
       "    </tr>\n",
       "    <tr>\n",
       "      <th>3</th>\n",
       "      <td>1200</td>\n",
       "      <td>213</td>\n",
       "      <td>5</td>\n",
       "      <td>0</td>\n",
       "    </tr>\n",
       "    <tr>\n",
       "      <th>4</th>\n",
       "      <td>1200</td>\n",
       "      <td>213</td>\n",
       "      <td>5</td>\n",
       "      <td>0</td>\n",
       "    </tr>\n",
       "    <tr>\n",
       "      <th>...</th>\n",
       "      <td>...</td>\n",
       "      <td>...</td>\n",
       "      <td>...</td>\n",
       "      <td>...</td>\n",
       "    </tr>\n",
       "    <tr>\n",
       "      <th>85</th>\n",
       "      <td>12100</td>\n",
       "      <td>2700</td>\n",
       "      <td>59</td>\n",
       "      <td>6</td>\n",
       "    </tr>\n",
       "    <tr>\n",
       "      <th>86</th>\n",
       "      <td>4747</td>\n",
       "      <td>1043</td>\n",
       "      <td>20</td>\n",
       "      <td>2</td>\n",
       "    </tr>\n",
       "    <tr>\n",
       "      <th>87</th>\n",
       "      <td>16375</td>\n",
       "      <td>3375</td>\n",
       "      <td>43</td>\n",
       "      <td>27</td>\n",
       "    </tr>\n",
       "    <tr>\n",
       "      <th>88</th>\n",
       "      <td>16311</td>\n",
       "      <td>3432</td>\n",
       "      <td>43</td>\n",
       "      <td>19</td>\n",
       "    </tr>\n",
       "    <tr>\n",
       "      <th>89</th>\n",
       "      <td>16024</td>\n",
       "      <td>3337</td>\n",
       "      <td>43</td>\n",
       "      <td>19</td>\n",
       "    </tr>\n",
       "  </tbody>\n",
       "</table>\n",
       "<p>90 rows × 4 columns</p>\n",
       "</div>"
      ],
      "text/plain": [
       "    File Size  Number of Tags  Number of Classes  Number of Ids\n",
       "0      264055           60396                823             41\n",
       "1       66715           14795                185            107\n",
       "2        1200             213                  5              0\n",
       "3        1200             213                  5              0\n",
       "4        1200             213                  5              0\n",
       "..        ...             ...                ...            ...\n",
       "85      12100            2700                 59              6\n",
       "86       4747            1043                 20              2\n",
       "87      16375            3375                 43             27\n",
       "88      16311            3432                 43             19\n",
       "89      16024            3337                 43             19\n",
       "\n",
       "[90 rows x 4 columns]"
      ]
     },
     "execution_count": 149,
     "metadata": {},
     "output_type": "execute_result"
    }
   ],
   "source": [
    "refactoredStatsDf = pd.DataFrame(refactorStats, columns=[\"File Size\", \"Number of Tags\", \"Number of Classes\", \"Number of Ids\"])\n",
    "refactoredStatsDf"
   ]
  },
  {
   "cell_type": "code",
   "execution_count": 150,
   "metadata": {},
   "outputs": [
    {
     "data": {
      "text/plain": [
       "[[9417.4, 5053.5], [1982.62, 1044.5], [58.22, 25.0], [9.78, 2.0]]"
      ]
     },
     "execution_count": 150,
     "metadata": {},
     "output_type": "execute_result"
    }
   ],
   "source": [
    "getDescriptiveStats(originalStatsDf)"
   ]
  },
  {
   "cell_type": "code",
   "execution_count": 151,
   "metadata": {},
   "outputs": [
    {
     "data": {
      "text/plain": [
       "[[13234.9, 6441.0], [2734.79, 1278.0], [58.26, 25.5], [9.2, 2.0]]"
      ]
     },
     "execution_count": 151,
     "metadata": {},
     "output_type": "execute_result"
    }
   ],
   "source": [
    "getDescriptiveStats(refactoredStatsDf)"
   ]
  },
  {
   "cell_type": "code",
   "execution_count": 153,
   "metadata": {},
   "outputs": [
    {
     "ename": "NameError",
     "evalue": "name 'ProfileReport' is not defined",
     "output_type": "error",
     "traceback": [
      "\u001b[1;31m---------------------------------------------------------------------------\u001b[0m",
      "\u001b[1;31mNameError\u001b[0m                                 Traceback (most recent call last)",
      "\u001b[1;32m~\\AppData\\Local\\Temp\\ipykernel_18888\\3536279479.py\u001b[0m in \u001b[0;36m<module>\u001b[1;34m\u001b[0m\n\u001b[1;32m----> 1\u001b[1;33m ProfileReport(pd.DataFrame(refactoredStyles, columns=[\"Styles\"]), title=\"Refactored Styles Report\", \n\u001b[0m\u001b[0;32m      2\u001b[0m     explorative=True).to_file(\"./profile-reports/refactored-styles.html\")\n\u001b[0;32m      3\u001b[0m \u001b[1;33m\u001b[0m\u001b[0m\n\u001b[0;32m      4\u001b[0m ProfileReport(pd.DataFrame(originalStyles, columns=[\"Styles\"]), title=\"Original Styles Report\", \n\u001b[0;32m      5\u001b[0m     explorative=True).to_file(\"./profile-reports/original-styles.html\")\n",
      "\u001b[1;31mNameError\u001b[0m: name 'ProfileReport' is not defined"
     ]
    }
   ],
   "source": [
    "ProfileReport(pd.DataFrame(refactoredStyles, columns=[\"Styles\"]), title=\"Refactored Styles Report\", \n",
    "    explorative=True).to_file(\"./profile-reports/refactored-styles.html\")\n",
    "\n",
    "ProfileReport(pd.DataFrame(originalStyles, columns=[\"Styles\"]), title=\"Original Styles Report\", \n",
    "    explorative=True).to_file(\"./profile-reports/original-styles.html\")"
   ]
  }
 ],
 "metadata": {
  "interpreter": {
   "hash": "a46f0e7d7db2b4b2704a15e4e0b2e33d73549edf512530e310df04cf4d31824c"
  },
  "kernelspec": {
   "display_name": "Python 3.9.7 ('base')",
   "language": "python",
   "name": "python3"
  },
  "language_info": {
   "codemirror_mode": {
    "name": "ipython",
    "version": 3
   },
   "file_extension": ".py",
   "mimetype": "text/x-python",
   "name": "python",
   "nbconvert_exporter": "python",
   "pygments_lexer": "ipython3",
   "version": "3.9.7"
  },
  "orig_nbformat": 4
 },
 "nbformat": 4,
 "nbformat_minor": 2
}
